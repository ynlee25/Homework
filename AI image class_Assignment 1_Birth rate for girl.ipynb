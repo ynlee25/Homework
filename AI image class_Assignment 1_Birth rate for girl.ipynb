{
 "cells": [
  {
   "cell_type": "markdown",
   "metadata": {},
   "source": [
    "#Birth rate for girl"
   ]
  },
  {
   "cell_type": "code",
   "execution_count": null,
   "metadata": {},
   "outputs": [],
   "source": [
    "import random\n",
    "\n",
    "def girl_birth(n, show_id = False):# default as no id\n",
    "    girl_count = 0\n",
    "    for i in range (n):\n",
    "        idnbr = str(i+1)+\".\" #avoid id appearing \"0\"\n",
    "        child_count = 0\n",
    "        birth = random.sample(range(0,100),3)# pick 3 random numbers\n",
    "        for rn in birth:\n",
    "            if rn <= 48: #assuming 0-48 refer to girl\n",
    "                child_count += 1\n",
    "                girl_count += 1\n",
    "                idnbr += \"(\"+ str(rn) +\")\"+\"女+\"\n",
    "                break\n",
    "            else :\n",
    "                idnbr += \"(\"+ str(rn) +\")\"+\"男\"\n",
    "\n",
    "        if show_id:\n",
    "            print(idnbr)\n",
    "    return str(girl_count/n)\n",
    "\n",
    "print(\"r_girl:\"+str(girl_birth(10, True)))\n",
    "print(\"\\n\")\n",
    "print(\"r_girl:\" + str(girl_birth(10000, False))) #omit the process"
   ]
  },
  {
   "cell_type": "code",
   "execution_count": null,
   "metadata": {},
   "outputs": [],
   "source": []
  }
 ],
 "metadata": {
  "celltoolbar": "Raw Cell Format",
  "kernelspec": {
   "display_name": "Python 3",
   "language": "python",
   "name": "python3"
  },
  "language_info": {
   "codemirror_mode": {
    "name": "ipython",
    "version": 3
   },
   "file_extension": ".py",
   "mimetype": "text/x-python",
   "name": "python",
   "nbconvert_exporter": "python",
   "pygments_lexer": "ipython3",
   "version": "3.5.6"
  }
 },
 "nbformat": 4,
 "nbformat_minor": 2
}
